{
 "cells": [
  {
   "cell_type": "code",
   "execution_count": 40,
   "source": [
    "# Use this to add the tag_tracking folder to python path for imports\r\n",
    "import os, sys\r\n",
    "tag_tracking_path = os.path.abspath(os.path.join('', './../..'))\r\n",
    "sys.path.insert(0, tag_tracking_path)\r\n",
    "# If you get an error here about no \"pygrid\" module, you need to compile some C code:\r\n",
    "#    In the tag_tracking/tagsim directory, run\r\n",
    "#        python setup.py build_ext --inplace\r\n",
    "#    or\r\n",
    "#        python setup_xcode.py build_ext --inplace   # (if you are using xcode on a Mac)\r\n",
    "\r\n",
    "\r\n",
    "# Import the tagsim functions\r\n",
    "from tagsim import SimObject, SimPSD\r\n",
    "from tagsim.sim_fullmotion import proc_im\r\n",
    "\r\n",
    "import numpy as np\r\n",
    "import matplotlib.pyplot as plt\r\n",
    "import pydicom\r\n",
    "from copy import deepcopy"
   ],
   "outputs": [],
   "metadata": {}
  },
  {
   "cell_type": "code",
   "execution_count": 8,
   "source": [
    "ke = .08  # DENSE encoding strength\r\n",
    "use_gpu = False  # Whether to use GPU (not really needed for this small example)\r\n",
    "\r\n",
    "Nt = 25  # Number of timeframes\r\n",
    "\r\n",
    "N_im = 32  # Image resolution (FOV = 80 mm is hardcoded for this example)\r\n",
    "\r\n",
    "N_phasecycle = 3 # Number of DENSE phasecycles (could try 2 here, but echo cancellation will probably be incomplete)\r\n",
    "\r\n",
    "# How much noise to add.  TODO: correspond this number to SNR, right now it is arbitrary \r\n",
    "noise_scale = 0.5 \r\n",
    "\r\n",
    "# Whether to apply Hamming filter or not.  (This blurs image, it may be more reaslistic to have it on)\r\n",
    "do_hamming = True\r\n",
    "\r\n",
    "# Compute what time each of the images correspond to in milliseconds\r\n",
    "acq_loc = np.arange(0, Nt) * 1000 / Nt + 1  \r\n",
    "\r\n",
    "\r\n",
    "# Prep the structure (time resolved simulation points ready for simulation)\r\n",
    "sim_object = SimObject.SimObject()\r\n",
    "sim_object.gen_solo_cardiac()\r\n",
    "\r\n",
    "\r\n",
    "# We are going to loop though all encoding directions now\r\n",
    "dir_all_im = []\r\n",
    "dir_all_im_pc = []\r\n",
    "\r\n",
    "for enc_dir in range(3):\r\n",
    "\r\n",
    "    ke_dir = np.zeros(3)  # DENSE encoding direction\r\n",
    "    ke_dir[enc_dir] = 1.0\r\n",
    "    print('Running sim for ke_dir = {}'.format(str(ke_dir)))\r\n",
    "\r\n",
    "    # Phase cycling RF angles\r\n",
    "    all_theta = np.linspace(0, 2*np.pi, N_phasecycle, endpoint=False)\r\n",
    "    all_acq = []\r\n",
    "\r\n",
    "    print('Running Bloch simulator for theta =', end = ' ', flush = True)\r\n",
    "    for theta in all_theta:\r\n",
    "        print('{:.2f}'.format(theta), end = ' ', flush = True)\r\n",
    "        # Preps the simulator\r\n",
    "        simulator = SimPSD.SimInstant(sim_object, use_gpu=use_gpu)\r\n",
    "        # Prep the DENSE PSD\r\n",
    "        simulator.sample_DENSE_PSD(rf_dir = [np.cos(theta), np.sin(theta), 0], ke=ke, ke_dir=ke_dir, kd = 0.0, acq_loc=acq_loc)\r\n",
    "        # Run simulator\r\n",
    "        all_acq.append(simulator.run())\r\n",
    "    print('Done!')\r\n",
    "\r\n",
    "    print('Solving for images . . .', end = ' ', flush = True)\r\n",
    "    # This code builds the images from the simulated complex points and position.\r\n",
    "    all_im = np.zeros((N_phasecycle, Nt, N_im, N_im), np.complex)\r\n",
    "    for i_pc in range(N_phasecycle):\r\n",
    "        for i_t in range(Nt):\r\n",
    "            im0 = sim_object.grid_im_from_M(all_acq[i_pc][i_t][0], all_acq[i_pc][i_t][1], N_im=N_im, w=N_im // 2, use_gpu = use_gpu) #, dens = dd)\r\n",
    "            im0 = proc_im(im0, N_im, noise_scale=noise_scale, kaiser_beta=0, do_hamming = do_hamming)\r\n",
    "            all_im[i_pc, i_t] = im0\r\n",
    "    dir_all_im.append(all_im)\r\n",
    "\r\n",
    "    # Combines the phase cycled image into a single (NtxNxN) final image array (all_im_pc)\r\n",
    "    all_im_pc = all_im.copy()\r\n",
    "    all_im_pc *= np.conj(np.exp(1j * all_theta))[:, None, None, None]\r\n",
    "    all_im_pc = all_im_pc.sum(0)\r\n",
    "    dir_all_im_pc.append(all_im_pc)\r\n",
    "\r\n",
    "    print('Done!')\r\n",
    "\r\n",
    "dir_all_im = np.array(dir_all_im)\r\n",
    "dir_all_im_pc = np.array(dir_all_im_pc)"
   ],
   "outputs": [
    {
     "output_type": "stream",
     "name": "stdout",
     "text": [
      "Running sim for ke_dir = [1. 0. 0.]\n",
      "Running Bloch simulator for theta = 0.00 2.09 4.19 Done!\n",
      "Solving for images . . . Done!\n",
      "Running sim for ke_dir = [0. 1. 0.]\n",
      "Running Bloch simulator for theta = 0.00 2.09 4.19 Done!\n",
      "Solving for images . . . Done!\n",
      "Running sim for ke_dir = [0. 0. 1.]\n",
      "Running Bloch simulator for theta = 0.00 2.09 4.19 Done!\n",
      "Solving for images . . . Done!\n"
     ]
    }
   ],
   "metadata": {}
  },
  {
   "cell_type": "code",
   "execution_count": 53,
   "source": [
    "mag = np.mean(np.abs(dir_all_im_pc), axis=0)\r\n",
    "px = np.angle(dir_all_im_pc[0])\r\n",
    "py = np.angle(dir_all_im_pc[1])\r\n",
    "pz = np.angle(dir_all_im_pc[2])\r\n",
    "p_all = np.angle(dir_all_im_pc)\r\n",
    "\r\n",
    "print(p_all.shape, p_all.dtype, p_all.min(), p_all.max())"
   ],
   "outputs": [
    {
     "output_type": "stream",
     "name": "stdout",
     "text": [
      "(3, 25, 32, 32) float64 -3.141577996714821 3.14155142083175\n"
     ]
    }
   ],
   "metadata": {}
  },
  {
   "cell_type": "code",
   "execution_count": 59,
   "source": [
    "# Load template dicom file\r\n",
    "template_ds = pydicom.dcmread('../cardiac_data/template.dcm')\r\n",
    "\r\n",
    "# Don't use lossless compression to make things a little easier to work with\r\n",
    "template_ds.decompress()\r\n",
    "del template_ds.DerivationDescription\r\n",
    "\r\n",
    "save_dir = '../cardiac_data/dense_dicom/'\r\n",
    "os.makedirs(save_dir, exist_ok=True)\r\n",
    "all_sub_dir = ['px', 'py', 'pz', 'mag']\r\n",
    "for sub_dir in all_sub_dir:\r\n",
    "    os.makedirs(os.path.join(save_dir, sub_dir), exist_ok=True)\r\n",
    "\r\n",
    "Nt = mag.shape[0]\r\n",
    "\r\n",
    "for enc_dir in range(4):\r\n",
    "\r\n",
    "    series_no = enc_dir + 1\r\n",
    "    series_uid = pydicom.uid.generate_uid()\r\n",
    "\r\n",
    "    if enc_dir == 0:\r\n",
    "        tag0 = 'x-encPha'\r\n",
    "        tag1 = 'x-enc pha'\r\n",
    "    elif enc_dir == 1:\r\n",
    "        tag0 = 'y-encPha'\r\n",
    "        tag1 = 'y-enc pha'\r\n",
    "    elif enc_dir == 2:\r\n",
    "        tag0 = 'z-encPha'\r\n",
    "        tag1 = 'z-enc pha'\r\n",
    "    elif enc_dir == 3:\r\n",
    "        tag0 = 'AveMag'\r\n",
    "        tag1 = 'overall mag'\r\n",
    "    \r\n",
    "    if enc_dir < 3:\r\n",
    "        comment = 'DENSE {} - Scale:1.00000 EncFreq:{:.2f} Rep:0/1 Slc:0/1 Par:{:d}/{:d} Phs:{:d}/{:d} RCswap:1 RCSflip:0/0/0'.format(\r\n",
    "            tag1, ke, 0, 1, it, Nt\r\n",
    "        )\r\n",
    "    elif enc_dir == 3:\r\n",
    "        comment = 'DENSE {} - Rep:0/1 Slc:0/1 Par:{:d}/{:d} Phs:{:d}/{:d} RCswap:1 RCSflip:0/0/0'.format(\r\n",
    "            tag1, 0, 1, it, Nt\r\n",
    "        )\r\n",
    "    \r\n",
    "    series_desc = 'Computational Phantom Series {:02d} {}'.format(series_no, tag0)\r\n",
    "    \r\n",
    "    for it in range(Nt):\r\n",
    "\r\n",
    "        ds = deepcopy(template_ds)\r\n",
    "\r\n",
    "        ds.SeriesDescription = series_desc\r\n",
    "        ds.SeriesInstanceUID = series_uid\r\n",
    "        ds.CardiacNumberOfImages = Nt\r\n",
    "        ds.SeriesNumber = series_no\r\n",
    "        ds.InstanceNumber = it\r\n",
    "        ds.ImageComments = comment\r\n",
    "\r\n",
    "        if enc_dir < 3:\r\n",
    "            im = p_all[enc_dir, it]\r\n",
    "            im = (im/np.pi * 2048 + 2048).astype(np.uint16)\r\n",
    "        elif enc_dir == 3:\r\n",
    "            im = mag[it]\r\n",
    "            im = (4096*(im/mag.max())).astype(np.uint16)\r\n",
    "        \r\n",
    "\r\n",
    "        ds.PixelData = im.tostring()\r\n",
    "        fname = 'im_{:03d}/dcm'.format(it)\r\n",
    "        ds.save_as(os.path.join())\r\n",
    "        \r\n",
    "        \r\n",
    "\r\n"
   ],
   "outputs": [
    {
     "output_type": "stream",
     "name": "stdout",
     "text": [
      "3 4096\n",
      "4 3574\n",
      "4 3122\n",
      "4 2735\n",
      "4 2398\n",
      "5 2108\n",
      "3 1862\n",
      "3 1644\n",
      "2 1447\n",
      "4 1287\n",
      "3 1142\n",
      "4 1023\n",
      "3 912\n",
      "4 818\n",
      "3 736\n",
      "3 666\n",
      "1 601\n",
      "4 545\n",
      "4 496\n",
      "5 450\n",
      "4 412\n",
      "3 374\n",
      "4 342\n",
      "5 315\n",
      "3 288\n"
     ]
    }
   ],
   "metadata": {}
  },
  {
   "cell_type": "code",
   "execution_count": 55,
   "source": [
    "mag.max()"
   ],
   "outputs": [
    {
     "output_type": "execute_result",
     "data": {
      "text/plain": [
       "3.687242656491137"
      ]
     },
     "metadata": {},
     "execution_count": 55
    }
   ],
   "metadata": {}
  },
  {
   "cell_type": "code",
   "execution_count": 51,
   "source": [
    "im.max()"
   ],
   "outputs": [
    {
     "output_type": "execute_result",
     "data": {
      "text/plain": [
       "288.77794589238846"
      ]
     },
     "metadata": {},
     "execution_count": 51
    }
   ],
   "metadata": {}
  },
  {
   "cell_type": "code",
   "execution_count": null,
   "source": [],
   "outputs": [],
   "metadata": {}
  }
 ],
 "metadata": {
  "kernelspec": {
   "name": "python3",
   "display_name": "Python 3.7.9 64-bit ('base': conda)"
  },
  "language_info": {
   "codemirror_mode": {
    "name": "ipython",
    "version": 3
   },
   "file_extension": ".py",
   "mimetype": "text/x-python",
   "name": "python",
   "nbconvert_exporter": "python",
   "pygments_lexer": "ipython3",
   "version": "3.7.9"
  },
  "interpreter": {
   "hash": "f260fa6bbb6d65493caef38c5a1de6d92f3d0cf2e3d89c1fee644dce3028557b"
  }
 },
 "nbformat": 4,
 "nbformat_minor": 4
}