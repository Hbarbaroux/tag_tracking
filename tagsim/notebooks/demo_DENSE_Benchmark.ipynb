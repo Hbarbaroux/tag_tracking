{
 "cells": [
  {
   "cell_type": "code",
   "execution_count": 1,
   "metadata": {},
   "outputs": [],
   "source": [
    "# Use this to add the tag_tracking folder to python path for imports\n",
    "import os, sys\n",
    "tag_tracking_path = os.path.abspath(os.path.join('', './../..'))\n",
    "sys.path.insert(0, tag_tracking_path)\n",
    "# If you get an error here about no \"pygrid\" module, you need to compile some C code:\n",
    "#    In the tag_tracking/tagsim directory, run\n",
    "#        python setup.py build_ext --inplace\n",
    "#    or\n",
    "#        python setup_xcode.py build_ext --inplace   # (if you are using xcode on a Mac)\n",
    "\n",
    "\n",
    "# Import the tagsim functions\n",
    "from tagsim import SimObject, SimPSD\n",
    "from tagsim.sim_fullmotion import proc_im\n",
    "\n",
    "import numpy as np\n",
    "import matplotlib.pyplot as plt"
   ]
  },
  {
   "cell_type": "code",
   "execution_count": 9,
   "metadata": {},
   "outputs": [
    {
     "name": "stdout",
     "output_type": "stream",
     "text": [
      "Running Bloch simulator for theta = 0.00 2.09 4.19 Done!\n"
     ]
    }
   ],
   "source": [
    "ke = .08  # DENSE encoding strength\n",
    "ke_dir=[1.0, 0.0, 0.0]  # DENSE encoding direction\n",
    "use_gpu = False  # Whether to use GPU (not really needed for this small example)\n",
    "\n",
    "Nt = 25  # Number of timeframes\n",
    "\n",
    "N_im = 32  # Image resolution (FOV = 80 mm is hardcoded for this example)\n",
    "\n",
    "N_phasecycle = 3 # Number of DENSE phasecycles (could try 2 here, but echo cancellation will probably be incomplete)\n",
    "\n",
    "# How much noise to add.  TODO: correspond this number to SNR, right now it is arbitrary \n",
    "noise_scale = 0.5 \n",
    "\n",
    "# Whether to apply Hamming filter or not.  (This blurs image, it may be more reaslistic to have it on)\n",
    "do_hamming = False\n",
    "\n",
    "# Compute what time each of the images correspond to in milliseconds\n",
    "acq_loc = np.arange(0, Nt) * 1000 / Nt + 1  \n",
    "\n",
    "\n",
    "# Prep the structure (time resolved simulation points ready for simulation)\n",
    "sim_object = SimObject.SimObject()\n",
    "sim_object.gen_solo_cardiac()\n",
    "\n",
    "# Phase cycling RF angles\n",
    "all_theta = np.linspace(0, 2*np.pi, N_phasecycle, endpoint=False)\n",
    "all_acq = []\n",
    "\n",
    "print('Running Bloch simulator for theta =', end = ' ', flush = True)\n",
    "for theta in all_theta:\n",
    "    print('{:.2f}'.format(theta), end = ' ', flush = True)\n",
    "    # Preps the simulator\n",
    "    simulator = SimPSD.SimInstant(sim_object, use_gpu=use_gpu)\n",
    "    # Prep the DENSE PSD\n",
    "    simulator.sample_DENSE_PSD(rf_dir = [np.cos(theta), np.sin(theta), 0], ke=ke, ke_dir=ke_dir, kd = 0.0, acq_loc=acq_loc)\n",
    "    # Run simulator\n",
    "    all_acq.append(simulator.run())\n",
    "print('Done!')"
   ]
  },
  {
   "cell_type": "code",
   "execution_count": 10,
   "metadata": {},
   "outputs": [],
   "source": [
    "# This code builds the images from the simulated complex points and position.\n",
    "all_im = np.zeros((N_phasecycle, Nt, N_im, N_im), np.complex)\n",
    "for i_pc in range(N_phasecycle):\n",
    "    for i_t in range(Nt):\n",
    "        im0 = sim_object.grid_im_from_M(all_acq[i_pc][i_t][0], all_acq[i_pc][i_t][1], N_im=N_im, w=N_im // 2, use_gpu = use_gpu) #, dens = dd)\n",
    "        im0 = proc_im(im0, N_im, noise_scale=noise_scale, kaiser_beta=0, do_hamming = do_hamming)\n",
    "        all_im[i_pc, i_t] = im0\n",
    "\n",
    "# Combines the phase cycled image into a single (NtxNxN) final image array (all_im_pc)\n",
    "all_im_pc = all_im.copy()\n",
    "all_im_pc *= np.conj(np.exp(1j * all_theta))[:, None, None, None]\n",
    "all_im_pc = all_im_pc.sum(0)"
   ]
  },
  {
   "cell_type": "code",
   "execution_count": 11,
   "metadata": {},
   "outputs": [
    {
     "data": {
      "text/plain": [
       "<matplotlib.colorbar.Colorbar at 0x2b628772e88>"
      ]
     },
     "execution_count": 11,
     "metadata": {},
     "output_type": "execute_result"
    },
    {
     "data": {
      "image/png": "[encoded data removed]",
      "text/plain": [
       "<Figure size 432x288 with 2 Axes>"
      ]
     },
     "metadata": {
      "needs_background": "light"
     },
     "output_type": "display_data"
    },
    {
     "data": {
      "image/png": "[encoded data removed]",
      "text/plain": [
       "<Figure size 432x288 with 2 Axes>"
      ]
     },
     "metadata": {
      "needs_background": "light"
     },
     "output_type": "display_data"
    }
   ],
   "source": [
    "tt = 11\n",
    "\n",
    "plt.figure()\n",
    "plt.imshow(np.abs(all_im_pc[tt]), cmap='gray')\n",
    "plt.colorbar()\n",
    "\n",
    "plt.figure()\n",
    "plt.imshow(np.angle(all_im_pc[tt]), cmap='gray')\n",
    "plt.colorbar()"
   ]
  },
  {
   "cell_type": "code",
   "execution_count": null,
   "metadata": {},
   "outputs": [],
   "source": []
  }
 ],
 "metadata": {
  "kernelspec": {
   "display_name": "Python 3",
   "language": "python",
   "name": "python3"
  },
  "language_info": {
   "codemirror_mode": {
    "name": "ipython",
    "version": 3
   },
   "file_extension": ".py",
   "mimetype": "text/x-python",
   "name": "python",
   "nbconvert_exporter": "python",
   "pygments_lexer": "ipython3",
   "version": "3.7.9"
  }
 },
 "nbformat": 4,
 "nbformat_minor": 4
}
