{
 "cells": [
  {
   "cell_type": "code",
   "execution_count": 1,
   "source": [
    "# Use this to add the tag_tracking folder to python path for imports\r\n",
    "import os, sys\r\n",
    "tag_tracking_path = os.path.abspath(os.path.join('', './../..'))\r\n",
    "sys.path.insert(0, tag_tracking_path)\r\n",
    "# If you get an error here about no \"pygrid\" module, you need to compile some C code:\r\n",
    "#    In the tag_tracking/tagsim directory, run\r\n",
    "#        python setup.py build_ext --inplace\r\n",
    "#    or\r\n",
    "#        python setup_xcode.py build_ext --inplace   # (if you are using xcode on a Mac)\r\n",
    "\r\n",
    "\r\n",
    "# Import the tagsim functions\r\n",
    "from tagsim import SimObject, SimPSD\r\n",
    "from tagsim.sim_fullmotion import proc_im\r\n",
    "\r\n",
    "import numpy as np\r\n",
    "import matplotlib.pyplot as plt"
   ],
   "outputs": [],
   "metadata": {}
  },
  {
   "cell_type": "code",
   "execution_count": 16,
   "source": [
    "ke = .08  # DENSE encoding strength\r\n",
    "ke_dir=[1.0, 0.0, 0.0]  # DENSE encoding direction\r\n",
    "use_gpu = False  # Whether to use GPU (not really needed for this small example)\r\n",
    "\r\n",
    "Nt = 25  # Number of timeframes\r\n",
    "\r\n",
    "N_im = 32  # Image resolution (FOV = 80 mm is hardcoded for this example)\r\n",
    "\r\n",
    "N_phasecycle = 3 # Number of DENSE phasecycles (could try 2 here, but echo cancellation will probably be incomplete)\r\n",
    "\r\n",
    "# How much noise to add.  TODO: correspond this number to SNR, right now it is arbitrary \r\n",
    "noise_scale = 0.5 \r\n",
    "\r\n",
    "# Whether to apply Hamming filter or not.  (This blurs image, it may be more reaslistic to have it on)\r\n",
    "do_hamming = False\r\n",
    "\r\n",
    "# Compute what time each of the images correspond to in milliseconds\r\n",
    "acq_loc = np.arange(0, Nt) * 1000 / Nt + 1  \r\n",
    "\r\n",
    "\r\n",
    "# Prep the structure (time resolved simulation points ready for simulation)\r\n",
    "sim_object = SimObject.SimObject()\r\n",
    "sim_object.gen_solo_cardiac()\r\n",
    "\r\n",
    "\r\n",
    "\r\n",
    "# Change the z FOV of the phantom to whatever you want (units in meters)\r\n",
    "sim_object.fov[2] = 16e-3  # i.e. phantom is 16mm thick\r\n",
    "\r\n",
    "# Set a slice profile so the simulation excites only points within this range\r\n",
    "# Locations are from 0:FOVz, set slice_profile = None to excite all\r\n",
    "slice_profile = [7e-3, 9e-3]  # i.e. Bloch simulation only excites spins in between 7mm and 9mm"
   ],
   "outputs": [],
   "metadata": {}
  },
  {
   "cell_type": "code",
   "execution_count": 40,
   "source": [
    "# Phase cycling RF angles\r\n",
    "all_theta = np.linspace(0, 2*np.pi, N_phasecycle, endpoint=False)\r\n",
    "all_acq = []\r\n",
    "\r\n",
    "print('Running Bloch simulator for theta =', end = ' ', flush = True)\r\n",
    "for theta in all_theta:\r\n",
    "    print('{:.2f}'.format(theta), end = ' ', flush = True)\r\n",
    "    # Preps the simulator\r\n",
    "    simulator = SimPSD.SimInstant(sim_object, use_gpu=use_gpu)\r\n",
    "    # Prep the DENSE PSD\r\n",
    "    simulator.sample_DENSE_PSD(rf_dir = [np.cos(theta), np.sin(theta), 0], ke=ke, \r\n",
    "                           ke_dir=ke_dir, kd = 0.0, acq_loc=acq_loc, profile = slice_profile)\r\n",
    "    # Run simulator\r\n",
    "    all_acq.append(simulator.run())\r\n",
    "print('Done!')"
   ],
   "outputs": [
    {
     "output_type": "stream",
     "name": "stdout",
     "text": [
      "Running Bloch simulator for theta = 0.00 2.09 4.19 Done!\n"
     ]
    }
   ],
   "metadata": {}
  },
  {
   "cell_type": "code",
   "execution_count": 41,
   "source": [
    "# This code builds the images from the simulated complex points and position.\r\n",
    "all_im = np.zeros((N_phasecycle, Nt, N_im, N_im), np.complex)\r\n",
    "for i_pc in range(N_phasecycle):\r\n",
    "    for i_t in range(Nt):\r\n",
    "        im0 = sim_object.grid_im_from_M(all_acq[i_pc][i_t][0], all_acq[i_pc][i_t][1], N_im=N_im, w=N_im // 2, use_gpu = use_gpu) #, dens = dd)\r\n",
    "        im0 = proc_im(im0, N_im, noise_scale=noise_scale, kaiser_beta=0, do_hamming = do_hamming)\r\n",
    "        all_im[i_pc, i_t] = im0\r\n",
    "\r\n",
    "# Combines the phase cycled image into a single (NtxNxN) final image array (all_im_pc)\r\n",
    "all_im_pc = all_im.copy()\r\n",
    "all_im_pc *= np.conj(np.exp(1j * all_theta))[:, None, None, None]\r\n",
    "all_im_pc = all_im_pc.sum(0)"
   ],
   "outputs": [],
   "metadata": {}
  },
  {
   "cell_type": "code",
   "execution_count": 43,
   "source": [
    "tt = 11\r\n",
    "\r\n",
    "plt.figure()\r\n",
    "plt.imshow(np.abs(all_im_pc[tt]), cmap='gray')\r\n",
    "plt.colorbar()\r\n",
    "\r\n",
    "plt.figure()\r\n",
    "plt.imshow(np.angle(all_im_pc[tt]), cmap='gray')\r\n",
    "plt.colorbar()"
   ],
   "outputs": [
    {
     "output_type": "execute_result",
     "data": {
      "text/plain": [
       "<matplotlib.colorbar.Colorbar at 0x1f75c47ffc8>"
      ]
     },
     "metadata": {},
     "execution_count": 43
    },
    {
     "output_type": "display_data",
     "data": {
      "image/png": "[encoded data removed]",
      "text/plain": [
       "<Figure size 432x288 with 2 Axes>"
      ]
     },
     "metadata": {
      "needs_background": "light"
     }
    },
    {
     "output_type": "display_data",
     "data": {
      "image/png": "[encoded data removed]",
      "text/plain": [
       "<Figure size 432x288 with 2 Axes>"
      ]
     },
     "metadata": {
      "needs_background": "light"
     }
    }
   ],
   "metadata": {}
  },
  {
   "cell_type": "code",
   "execution_count": null,
   "source": [],
   "outputs": [],
   "metadata": {}
  }
 ],
 "metadata": {
  "kernelspec": {
   "name": "python3",
   "display_name": "Python 3.7.9 64-bit ('base': conda)"
  },
  "language_info": {
   "codemirror_mode": {
    "name": "ipython",
    "version": 3
   },
   "file_extension": ".py",
   "mimetype": "text/x-python",
   "name": "python",
   "nbconvert_exporter": "python",
   "pygments_lexer": "ipython3",
   "version": "3.7.9"
  },
  "interpreter": {
   "hash": "f260fa6bbb6d65493caef38c5a1de6d92f3d0cf2e3d89c1fee644dce3028557b"
  }
 },
 "nbformat": 4,
 "nbformat_minor": 4
}