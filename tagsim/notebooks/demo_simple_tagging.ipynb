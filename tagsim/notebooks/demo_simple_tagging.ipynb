{
 "cells": [
  {
   "cell_type": "code",
   "execution_count": null,
   "metadata": {},
   "outputs": [],
   "source": [
    "# Use this to add the tag_tracking folder to python path for imports\n",
    "import os, sys\n",
    "tag_tracking_path = os.path.abspath(os.path.join('', './../..'))\n",
    "sys.path.insert(0, tag_tracking_path)\n",
    "\n",
    "# Import the tagsim functions\n",
    "from tagsim.sim_cardiacmotion import get_random_heart\n",
    "from tagsim.sim_fullmotion import get_full_motion_im"
   ]
  },
  {
   "cell_type": "markdown",
   "metadata": {},
   "source": [
    "### Full image motion simulation\n",
    "-----------"
   ]
  },
  {
   "cell_type": "code",
   "execution_count": null,
   "metadata": {},
   "outputs": [],
   "source": [
    "tag_spacing = 8  # Tag line spacing in mm\n",
    "basepath = '../image_db/' # Location of image files for background\n",
    "use_gpu = True \n",
    "\n",
    "# Perform the data generation/simulation\n",
    "res = get_full_motion_im(ke = 1/tag_spacing,  use_gpu = use_gpu, basepath = basepath)\n",
    "\n",
    "# Get the final images from results\n",
    "im_motion = res['ims']"
   ]
  },
  {
   "cell_type": "code",
   "execution_count": null,
   "metadata": {},
   "outputs": [],
   "source": [
    "# Jupyter animation of image\n",
    "import numpy as np\n",
    "from torch_track.utils_anim import TagAnimator\n",
    "from IPython.display import HTML\n",
    "\n",
    "A = TagAnimator(np.squeeze(im_motion), None)\n",
    "HTML(A.anim.to_jshtml())"
   ]
  },
  {
   "cell_type": "markdown",
   "metadata": {},
   "source": [
    "### Heart-like motion simulation\n",
    "-----------"
   ]
  },
  {
   "cell_type": "code",
   "execution_count": null,
   "metadata": {},
   "outputs": [],
   "source": [
    "tag_spacing = 8  # Tag line spacing in mm\n",
    "basepath = '../image_db/' # Location of image files for background\n",
    "use_gpu = True \n",
    "\n",
    "# Perform the data generation/simulation\n",
    "res = get_random_heart(ke = 1/tag_spacing,  use_gpu = use_gpu, basepath = basepath)\n",
    "\n",
    "# Get the final images from results\n",
    "im_cardiac = res['ims']"
   ]
  },
  {
   "cell_type": "code",
   "execution_count": null,
   "metadata": {},
   "outputs": [],
   "source": [
    "# Jupyter animation of image\n",
    "import numpy as np\n",
    "from torch_track.utils_anim import TagAnimator\n",
    "from IPython.display import HTML\n",
    "\n",
    "A = TagAnimator(np.squeeze(im_cardiac), None)\n",
    "HTML(A.anim.to_jshtml())"
   ]
  },
  {
   "cell_type": "markdown",
   "metadata": {},
   "source": [
    "### Save gifs for powerpoint\n",
    "-----------"
   ]
  },
  {
   "cell_type": "code",
   "execution_count": 1,
   "metadata": {},
   "outputs": [],
   "source": [
    "import matplotlib.pyplot as plt\n",
    "from save_gifs import save_gif, save_gif_windows\n",
    "\n",
    "def save_anim(im, tag):\n",
    "    save_folder = './anims/{}/'.format(tag)\n",
    "    os.makedirs(save_folder, exist_ok = True)\n",
    "\n",
    "    for i_t in range(im.shape[0]):\n",
    "\n",
    "        fig = plt.figure(figsize=[6,6])\n",
    "        ax = fig.add_subplot(111)\n",
    "\n",
    "        plt.imshow(im[i_t], cmap='gray', clim = [0, 0.9*im.max()])\n",
    "        ax.axes.get_xaxis().set_visible(False)\n",
    "        ax.axes.get_yaxis().set_visible(False)\n",
    "        ax.set_frame_on(False)\n",
    "\n",
    "        plt.tight_layout()\n",
    "\n",
    "        plt.savefig('{}/frame_{:03d}.png'.format(save_folder, i_t), dpi=200, bbox_inches='tight', pad_inches=0)\n",
    "        if i_t == 0:\n",
    "            plt.show()\n",
    "        else:\n",
    "            plt.close()"
   ]
  },
  {
   "cell_type": "code",
   "execution_count": null,
   "metadata": {},
   "outputs": [],
   "source": [
    "tag = '01_full'\n",
    "save_folder = './anims/{}/'.format(tag)\n",
    "save_anim(im_motion, tag)\n",
    "p0 = save_gif_windows(save_folder, save_folder = './anims/', save_name = '{}.gif'.format(tag), ww=256, framerate = 16)"
   ]
  },
  {
   "cell_type": "code",
   "execution_count": null,
   "metadata": {},
   "outputs": [],
   "source": [
    "tag = '01_cardiac'\n",
    "save_folder = './anims/{}/'.format(tag)\n",
    "save_anim(im_cardiac, tag)\n",
    "p0 = save_gif_windows(save_folder, save_folder = './anims/', save_name = '{}6.gif'.format(tag), ww=256, framerate = 16)"
   ]
  },
  {
   "cell_type": "code",
   "execution_count": null,
   "metadata": {},
   "outputs": [],
   "source": [
    "print(p0.communicate()[1].decode(\"utf-8\"))"
   ]
  },
  {
   "cell_type": "code",
   "execution_count": null,
   "metadata": {},
   "outputs": [],
   "source": [
    "import subprocess, shutil\n",
    "def save_gif_windows2(input_folder, save_folder = None, save_name = 'out.gif', ww=256, framerate=12):\n",
    "    if save_folder is None:\n",
    "        save_folder = input_folder\n",
    "        \n",
    "    command = ['C:\\\\ffmpeg\\\\bin\\\\ffmpeg.exe', '-y', '-r', '%d' % framerate, '-i', input_folder + 'frame_%03d.png',\n",
    "               '-filter_complex', '[0:v]scale=w=%d:h=-2,split [a][b];[a] palettegen=stats_mode=diff [p];[b][p] paletteuse=new=1:dither=none' % ww,\n",
    "               input_folder + 'aa_out2.gif']\n",
    "\n",
    "    p = subprocess.Popen(command, stdin=subprocess.PIPE, stdout=subprocess.PIPE, stderr=subprocess.PIPE)\n",
    "    output, err = p.communicate()\n",
    "    rc = p.returncode\n",
    "    \n",
    "#     print(err)\n",
    "    \n",
    "#     shutil.move(input_folder + 'aa_out.gif', save_folder + save_name)\n",
    "    \n",
    "    return p"
   ]
  },
  {
   "cell_type": "code",
   "execution_count": null,
   "metadata": {},
   "outputs": [],
   "source": [
    "p0 = save_gif_windows2(save_folder, save_folder = './anims/', save_name = '{}5.gif'.format(tag), ww=256, framerate = 16)"
   ]
  },
  {
   "cell_type": "code",
   "execution_count": null,
   "metadata": {},
   "outputs": [],
   "source": [
    "print(p0.communicate()[1].decode(\"utf-8\"))"
   ]
  },
  {
   "cell_type": "code",
   "execution_count": 3,
   "metadata": {},
   "outputs": [
    {
     "ename": "PermissionError",
     "evalue": "[WinError 32] The process cannot access the file because it is being used by another process: './anims/01_cardiac/aa_out.gif'",
     "output_type": "error",
     "traceback": [
      "\u001b[1;31m---------------------------------------------------------------------------\u001b[0m",
      "\u001b[1;31mPermissionError\u001b[0m                           Traceback (most recent call last)",
      "\u001b[1;32m~\\Anaconda3\\lib\\shutil.py\u001b[0m in \u001b[0;36mmove\u001b[1;34m(src, dst, copy_function)\u001b[0m\n\u001b[0;32m    565\u001b[0m     \u001b[1;32mtry\u001b[0m\u001b[1;33m:\u001b[0m\u001b[1;33m\u001b[0m\u001b[1;33m\u001b[0m\u001b[0m\n\u001b[1;32m--> 566\u001b[1;33m         \u001b[0mos\u001b[0m\u001b[1;33m.\u001b[0m\u001b[0mrename\u001b[0m\u001b[1;33m(\u001b[0m\u001b[0msrc\u001b[0m\u001b[1;33m,\u001b[0m \u001b[0mreal_dst\u001b[0m\u001b[1;33m)\u001b[0m\u001b[1;33m\u001b[0m\u001b[1;33m\u001b[0m\u001b[0m\n\u001b[0m\u001b[0;32m    567\u001b[0m     \u001b[1;32mexcept\u001b[0m \u001b[0mOSError\u001b[0m\u001b[1;33m:\u001b[0m\u001b[1;33m\u001b[0m\u001b[1;33m\u001b[0m\u001b[0m\n",
      "\u001b[1;31mPermissionError\u001b[0m: [WinError 32] The process cannot access the file because it is being used by another process: './anims/01_cardiac/aa_out.gif' -> './anims/01_cardiac7.gif'",
      "\nDuring handling of the above exception, another exception occurred:\n",
      "\u001b[1;31mPermissionError\u001b[0m                           Traceback (most recent call last)",
      "\u001b[1;32m<ipython-input-3-5165659654db>\u001b[0m in \u001b[0;36m<module>\u001b[1;34m\u001b[0m\n\u001b[0;32m      1\u001b[0m \u001b[0mtag\u001b[0m \u001b[1;33m=\u001b[0m \u001b[1;34m'01_cardiac'\u001b[0m\u001b[1;33m\u001b[0m\u001b[1;33m\u001b[0m\u001b[0m\n\u001b[0;32m      2\u001b[0m \u001b[0msave_folder\u001b[0m \u001b[1;33m=\u001b[0m \u001b[1;34m'./anims/{}/'\u001b[0m\u001b[1;33m.\u001b[0m\u001b[0mformat\u001b[0m\u001b[1;33m(\u001b[0m\u001b[0mtag\u001b[0m\u001b[1;33m)\u001b[0m\u001b[1;33m\u001b[0m\u001b[1;33m\u001b[0m\u001b[0m\n\u001b[1;32m----> 3\u001b[1;33m \u001b[0mp0\u001b[0m \u001b[1;33m=\u001b[0m \u001b[0msave_gif_windows\u001b[0m\u001b[1;33m(\u001b[0m\u001b[0msave_folder\u001b[0m\u001b[1;33m,\u001b[0m \u001b[0msave_folder\u001b[0m \u001b[1;33m=\u001b[0m \u001b[1;34m'./anims/'\u001b[0m\u001b[1;33m,\u001b[0m \u001b[0msave_name\u001b[0m \u001b[1;33m=\u001b[0m \u001b[1;34m'{}7.gif'\u001b[0m\u001b[1;33m.\u001b[0m\u001b[0mformat\u001b[0m\u001b[1;33m(\u001b[0m\u001b[0mtag\u001b[0m\u001b[1;33m)\u001b[0m\u001b[1;33m,\u001b[0m \u001b[0mww\u001b[0m\u001b[1;33m=\u001b[0m\u001b[1;36m256\u001b[0m\u001b[1;33m,\u001b[0m \u001b[0mframerate\u001b[0m \u001b[1;33m=\u001b[0m \u001b[1;36m16\u001b[0m\u001b[1;33m)\u001b[0m\u001b[1;33m\u001b[0m\u001b[1;33m\u001b[0m\u001b[0m\n\u001b[0m",
      "\u001b[1;32mD:\\Dropbox\\projects\\python2\\tag_tracking\\tagsim\\scmr_temp\\save_gifs.py\u001b[0m in \u001b[0;36msave_gif_windows\u001b[1;34m(input_folder, save_folder, save_name, ww, framerate)\u001b[0m\n\u001b[0;32m     34\u001b[0m \u001b[1;31m#     print(err)\u001b[0m\u001b[1;33m\u001b[0m\u001b[1;33m\u001b[0m\u001b[1;33m\u001b[0m\u001b[0m\n\u001b[0;32m     35\u001b[0m \u001b[1;33m\u001b[0m\u001b[0m\n\u001b[1;32m---> 36\u001b[1;33m     \u001b[0mshutil\u001b[0m\u001b[1;33m.\u001b[0m\u001b[0mmove\u001b[0m\u001b[1;33m(\u001b[0m\u001b[0minput_folder\u001b[0m \u001b[1;33m+\u001b[0m \u001b[1;34m'aa_out.gif'\u001b[0m\u001b[1;33m,\u001b[0m \u001b[0msave_folder\u001b[0m \u001b[1;33m+\u001b[0m \u001b[0msave_name\u001b[0m\u001b[1;33m)\u001b[0m\u001b[1;33m\u001b[0m\u001b[1;33m\u001b[0m\u001b[0m\n\u001b[0m\u001b[0;32m     37\u001b[0m \u001b[1;33m\u001b[0m\u001b[0m\n\u001b[0;32m     38\u001b[0m     \u001b[1;32mreturn\u001b[0m \u001b[0mp\u001b[0m\u001b[1;33m\u001b[0m\u001b[1;33m\u001b[0m\u001b[0m\n",
      "\u001b[1;32m~\\Anaconda3\\lib\\shutil.py\u001b[0m in \u001b[0;36mmove\u001b[1;34m(src, dst, copy_function)\u001b[0m\n\u001b[0;32m    579\u001b[0m         \u001b[1;32melse\u001b[0m\u001b[1;33m:\u001b[0m\u001b[1;33m\u001b[0m\u001b[1;33m\u001b[0m\u001b[0m\n\u001b[0;32m    580\u001b[0m             \u001b[0mcopy_function\u001b[0m\u001b[1;33m(\u001b[0m\u001b[0msrc\u001b[0m\u001b[1;33m,\u001b[0m \u001b[0mreal_dst\u001b[0m\u001b[1;33m)\u001b[0m\u001b[1;33m\u001b[0m\u001b[1;33m\u001b[0m\u001b[0m\n\u001b[1;32m--> 581\u001b[1;33m             \u001b[0mos\u001b[0m\u001b[1;33m.\u001b[0m\u001b[0munlink\u001b[0m\u001b[1;33m(\u001b[0m\u001b[0msrc\u001b[0m\u001b[1;33m)\u001b[0m\u001b[1;33m\u001b[0m\u001b[1;33m\u001b[0m\u001b[0m\n\u001b[0m\u001b[0;32m    582\u001b[0m     \u001b[1;32mreturn\u001b[0m \u001b[0mreal_dst\u001b[0m\u001b[1;33m\u001b[0m\u001b[1;33m\u001b[0m\u001b[0m\n\u001b[0;32m    583\u001b[0m \u001b[1;33m\u001b[0m\u001b[0m\n",
      "\u001b[1;31mPermissionError\u001b[0m: [WinError 32] The process cannot access the file because it is being used by another process: './anims/01_cardiac/aa_out.gif'"
     ]
    }
   ],
   "source": [
    "tag = '01_cardiac'\n",
    "save_folder = './anims/{}/'.format(tag)\n",
    "p0 = save_gif_windows(save_folder, save_folder = './anims/', save_name = '{}7.gif'.format(tag), ww=256, framerate = 16)"
   ]
  },
  {
   "cell_type": "code",
   "execution_count": null,
   "metadata": {},
   "outputs": [],
   "source": []
  }
 ],
 "metadata": {
  "kernelspec": {
   "display_name": "Python 3",
   "language": "python",
   "name": "python3"
  },
  "language_info": {
   "codemirror_mode": {
    "name": "ipython",
    "version": 3
   },
   "file_extension": ".py",
   "mimetype": "text/x-python",
   "name": "python",
   "nbconvert_exporter": "python",
   "pygments_lexer": "ipython3",
   "version": "3.7.9"
  }
 },
 "nbformat": 4,
 "nbformat_minor": 4
}
