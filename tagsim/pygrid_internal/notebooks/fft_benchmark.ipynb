{
 "cells": [
  {
   "cell_type": "code",
   "execution_count": 1,
   "metadata": {},
   "outputs": [],
   "source": [
    "import numpy as np\n",
    "import matplotlib.pyplot as plt\n",
    "from scipy import fftpack\n",
    "import mkl_fft\n",
    "import pyfftw\n",
    "import cupy as cp"
   ]
  },
  {
   "cell_type": "code",
   "execution_count": 13,
   "metadata": {},
   "outputs": [],
   "source": [
    "NN = 512\n",
    "\n",
    "a = np.random.uniform(size=(NN,NN,NN)) + 1j * np.random.uniform(size=(NN,NN,NN))\n",
    "a = a.astype(np.complex64)"
   ]
  },
  {
   "cell_type": "code",
   "execution_count": 14,
   "metadata": {},
   "outputs": [
    {
     "name": "stdout",
     "output_type": "stream",
     "text": [
      "1 Trials = 0.322s\n",
      "10 Trials = 3.275s\n"
     ]
    }
   ],
   "source": [
    "import time\n",
    "\n",
    "start = time.time()\n",
    "for i in range(1):\n",
    "    b = np.fft.fftn(a)\n",
    "end = time.time()\n",
    "print('1 Trials = %.3fs' % (end - start,))\n",
    "\n",
    "start = time.time()\n",
    "for i in range(10):\n",
    "    b = np.fft.fftn(a)\n",
    "end = time.time()\n",
    "print('10 Trials = %.3fs' % (end - start,))"
   ]
  },
  {
   "cell_type": "code",
   "execution_count": null,
   "metadata": {},
   "outputs": [],
   "source": [
    "import time\n",
    "\n",
    "start = time.time()\n",
    "for i in range(1):\n",
    "    b = fftpack.fftn(a)\n",
    "end = time.time()\n",
    "print('1 Trials = %.3fs' % (end - start,))\n",
    "\n",
    "start = time.time()\n",
    "for i in range(10):\n",
    "    b = fftpack.fftn(a)\n",
    "end = time.time()\n",
    "print('10 Trials = %.3fs' % (end - start,))"
   ]
  },
  {
   "cell_type": "code",
   "execution_count": null,
   "metadata": {},
   "outputs": [],
   "source": [
    "import time\n",
    "\n",
    "start = time.time()\n",
    "for i in range(1):\n",
    "    b = mkl_fft.fftn(a)\n",
    "end = time.time()\n",
    "print('1 Trials = %.3fs' % (end - start,))\n",
    "\n",
    "start = time.time()\n",
    "for i in range(10):\n",
    "    b = mkl_fft.fftn(a)\n",
    "end = time.time()\n",
    "print('10 Trials = %.3fs' % (end - start,))"
   ]
  },
  {
   "cell_type": "code",
   "execution_count": null,
   "metadata": {},
   "outputs": [],
   "source": [
    "a = pyfftw.byte_align(a)\n",
    "b = pyfftw.byte_align(b)\n",
    "\n",
    "fft_object = pyfftw.FFTW(a, b, axes=(0,1,2), threads=32)"
   ]
  },
  {
   "cell_type": "code",
   "execution_count": null,
   "metadata": {},
   "outputs": [],
   "source": [
    "import time\n",
    "\n",
    "start = time.time()\n",
    "for i in range(1):\n",
    "    b = fft_object()\n",
    "end = time.time()\n",
    "print('1 Trials = %.3fs' % (end - start,))\n",
    "\n",
    "start = time.time()\n",
    "for i in range(10):\n",
    "    b = fft_object()\n",
    "end = time.time()\n",
    "print('10 Trials = %.3fs' % (end - start,))"
   ]
  },
  {
   "cell_type": "code",
   "execution_count": 5,
   "metadata": {},
   "outputs": [],
   "source": [
    "ag = cp.asarray(a)\n",
    "bg = cp.asarray(b)\n",
    "\n",
    "bg = cp.fft.fftn(ag)"
   ]
  },
  {
   "cell_type": "code",
   "execution_count": 12,
   "metadata": {},
   "outputs": [
    {
     "name": "stdout",
     "output_type": "stream",
     "text": [
      "1 Trials = 0.045s\n",
      "10 Trials = 0.113s\n"
     ]
    }
   ],
   "source": [
    "start = time.time()\n",
    "for i in range(1):\n",
    "    ag = cp.asarray(a)\n",
    "    bg = cp.fft.fftn(ag)\n",
    "    b = cp.asnumpy(bg)\n",
    "end = time.time()\n",
    "print('1 Trials = %.3fs' % (end - start,))\n",
    "\n",
    "start = time.time()\n",
    "for i in range(10):\n",
    "    ag = cp.asarray(a)\n",
    "    bg = cp.fft.fftn(ag)\n",
    "    b = cp.asnumpy(bg)\n",
    "end = time.time()\n",
    "print('10 Trials = %.3fs' % (end - start,))"
   ]
  },
  {
   "cell_type": "code",
   "execution_count": null,
   "metadata": {},
   "outputs": [],
   "source": []
  }
 ],
 "metadata": {
  "kernelspec": {
   "display_name": "Python 3",
   "language": "python",
   "name": "python3"
  },
  "language_info": {
   "codemirror_mode": {
    "name": "ipython",
    "version": 3
   },
   "file_extension": ".py",
   "mimetype": "text/x-python",
   "name": "python",
   "nbconvert_exporter": "python",
   "pygments_lexer": "ipython3",
   "version": "3.7.3"
  }
 },
 "nbformat": 4,
 "nbformat_minor": 4
}
